{
 "cells": [
  {
   "cell_type": "markdown",
   "id": "916391d0",
   "metadata": {},
   "source": [
    "This program is for extrcting a CSV from pdf "
   ]
  },
  {
   "cell_type": "code",
   "execution_count": 2,
   "id": "e53d532f",
   "metadata": {
    "scrolled": true
   },
   "outputs": [
    {
     "name": "stdout",
     "output_type": "stream",
     "text": [
      "Collecting tabula-py\n",
      "  Downloading tabula_py-2.8.2-py3-none-any.whl (12.0 MB)\n",
      "     ---------------------------------------- 12.0/12.0 MB 2.5 MB/s eta 0:00:00\n",
      "Collecting jpype1\n",
      "  Downloading JPype1-1.4.1-cp39-cp39-win_amd64.whl (345 kB)\n",
      "     -------------------------------------- 345.2/345.2 kB 2.4 MB/s eta 0:00:00\n",
      "Requirement already satisfied: pandas>=0.25.3 in c:\\users\\user\\appdata\\roaming\\python\\python39\\site-packages (from tabula-py) (1.5.2)\n",
      "Requirement already satisfied: numpy in c:\\users\\user\\anaconda3\\lib\\site-packages (from tabula-py) (1.22.4)\n",
      "Collecting distro\n",
      "  Downloading distro-1.8.0-py3-none-any.whl (20 kB)\n",
      "Requirement already satisfied: python-dateutil>=2.8.1 in c:\\users\\user\\appdata\\roaming\\python\\python39\\site-packages (from pandas>=0.25.3->tabula-py) (2.8.2)\n",
      "Requirement already satisfied: pytz>=2020.1 in c:\\users\\user\\appdata\\roaming\\python\\python39\\site-packages (from pandas>=0.25.3->tabula-py) (2022.7)\n",
      "Requirement already satisfied: packaging in c:\\users\\user\\appdata\\roaming\\python\\python39\\site-packages (from jpype1->tabula-py) (22.0)\n",
      "Requirement already satisfied: six>=1.5 in c:\\users\\user\\appdata\\roaming\\python\\python39\\site-packages (from python-dateutil>=2.8.1->pandas>=0.25.3->tabula-py) (1.16.0)\n",
      "Installing collected packages: jpype1, distro, tabula-py\n",
      "Successfully installed distro-1.8.0 jpype1-1.4.1 tabula-py-2.8.2\n",
      "Note: you may need to restart the kernel to use updated packages.\n"
     ]
    }
   ],
   "source": [
    "pip install tabula-py"
   ]
  },
  {
   "cell_type": "code",
   "execution_count": 7,
   "id": "489a6791",
   "metadata": {},
   "outputs": [],
   "source": [
    "import tabula\n",
    "import os"
   ]
  },
  {
   "cell_type": "code",
   "execution_count": 10,
   "id": "b3153c42",
   "metadata": {},
   "outputs": [],
   "source": [
    "# Load pdf file\n",
    "file_path = \"D:\\All jobs_300\\Oeson\\Project_by_myself\\IJST\\Article32.pdf\"\n",
    "# Define the folder path for outputs\n",
    "folder_path = r\"D:\\All jobs_300\\Oeson\\Project_by_myself\\IJST\\Tables\""
   ]
  },
  {
   "cell_type": "code",
   "execution_count": 11,
   "id": "da133148",
   "metadata": {},
   "outputs": [],
   "source": [
    "# Check if folder exists, if not create it\n",
    "if not os.path.exists(folder_path):\n",
    "    os.makedirs(folder_path)"
   ]
  },
  {
   "cell_type": "code",
   "execution_count": 9,
   "id": "fb4f7ee9",
   "metadata": {},
   "outputs": [],
   "source": [
    "# Use tabula to read tables to a list of dataframes\n",
    "tables = tabula.read_pdf(file_path, pages = 'all', multiple_tables = True)"
   ]
  },
  {
   "cell_type": "code",
   "execution_count": 12,
   "id": "69a64048",
   "metadata": {},
   "outputs": [
    {
     "name": "stdout",
     "output_type": "stream",
     "text": [
      "Saved D:\\All jobs_300\\Oeson\\Project_by_myself\\IJST\\Tables\\table0.csv\n",
      "Saved D:\\All jobs_300\\Oeson\\Project_by_myself\\IJST\\Tables\\table1.csv\n",
      "Saved D:\\All jobs_300\\Oeson\\Project_by_myself\\IJST\\Tables\\table2.csv\n",
      "Saved D:\\All jobs_300\\Oeson\\Project_by_myself\\IJST\\Tables\\table3.csv\n",
      "Saved D:\\All jobs_300\\Oeson\\Project_by_myself\\IJST\\Tables\\table4.csv\n",
      "Saved D:\\All jobs_300\\Oeson\\Project_by_myself\\IJST\\Tables\\table5.csv\n",
      "Saved D:\\All jobs_300\\Oeson\\Project_by_myself\\IJST\\Tables\\table6.csv\n",
      "Saved D:\\All jobs_300\\Oeson\\Project_by_myself\\IJST\\Tables\\table7.csv\n",
      "Saved D:\\All jobs_300\\Oeson\\Project_by_myself\\IJST\\Tables\\table8.csv\n",
      "Saved D:\\All jobs_300\\Oeson\\Project_by_myself\\IJST\\Tables\\table9.csv\n",
      "Saved D:\\All jobs_300\\Oeson\\Project_by_myself\\IJST\\Tables\\table10.csv\n",
      "Saved D:\\All jobs_300\\Oeson\\Project_by_myself\\IJST\\Tables\\table11.csv\n",
      "Saved D:\\All jobs_300\\Oeson\\Project_by_myself\\IJST\\Tables\\table12.csv\n",
      "Saved D:\\All jobs_300\\Oeson\\Project_by_myself\\IJST\\Tables\\table13.csv\n",
      "Saved D:\\All jobs_300\\Oeson\\Project_by_myself\\IJST\\Tables\\table14.csv\n",
      "Saved D:\\All jobs_300\\Oeson\\Project_by_myself\\IJST\\Tables\\table15.csv\n",
      "Saved D:\\All jobs_300\\Oeson\\Project_by_myself\\IJST\\Tables\\table16.csv\n",
      "Saved D:\\All jobs_300\\Oeson\\Project_by_myself\\IJST\\Tables\\table17.csv\n",
      "Saved D:\\All jobs_300\\Oeson\\Project_by_myself\\IJST\\Tables\\table18.csv\n",
      "Saved D:\\All jobs_300\\Oeson\\Project_by_myself\\IJST\\Tables\\table19.csv\n",
      "Saved D:\\All jobs_300\\Oeson\\Project_by_myself\\IJST\\Tables\\table20.csv\n",
      "Saved D:\\All jobs_300\\Oeson\\Project_by_myself\\IJST\\Tables\\table21.csv\n",
      "Saved D:\\All jobs_300\\Oeson\\Project_by_myself\\IJST\\Tables\\table22.csv\n",
      "Saved D:\\All jobs_300\\Oeson\\Project_by_myself\\IJST\\Tables\\table23.csv\n",
      "Saved D:\\All jobs_300\\Oeson\\Project_by_myself\\IJST\\Tables\\table24.csv\n",
      "Saved D:\\All jobs_300\\Oeson\\Project_by_myself\\IJST\\Tables\\table25.csv\n",
      "Saved D:\\All jobs_300\\Oeson\\Project_by_myself\\IJST\\Tables\\table26.csv\n",
      "Saved D:\\All jobs_300\\Oeson\\Project_by_myself\\IJST\\Tables\\table27.csv\n",
      "Saved D:\\All jobs_300\\Oeson\\Project_by_myself\\IJST\\Tables\\table28.csv\n",
      "Saved D:\\All jobs_300\\Oeson\\Project_by_myself\\IJST\\Tables\\table29.csv\n",
      "Saved D:\\All jobs_300\\Oeson\\Project_by_myself\\IJST\\Tables\\table30.csv\n",
      "Saved D:\\All jobs_300\\Oeson\\Project_by_myself\\IJST\\Tables\\table31.csv\n",
      "Saved D:\\All jobs_300\\Oeson\\Project_by_myself\\IJST\\Tables\\table32.csv\n",
      "Saved D:\\All jobs_300\\Oeson\\Project_by_myself\\IJST\\Tables\\table33.csv\n",
      "Saved D:\\All jobs_300\\Oeson\\Project_by_myself\\IJST\\Tables\\table34.csv\n"
     ]
    }
   ],
   "source": [
    "# iterate through each table and save as csv file in the special folder\n",
    "for i, table in enumerate(tables):\n",
    "    csv_path = os.path.join(folder_path, f\"table{i}.csv\")\n",
    "    table.to_csv(csv_path, index = False)\n",
    "    print(f\"Saved {csv_path}\")"
   ]
  },
  {
   "cell_type": "code",
   "execution_count": null,
   "id": "f1a211a7",
   "metadata": {},
   "outputs": [],
   "source": []
  }
 ],
 "metadata": {
  "kernelspec": {
   "display_name": "Python 3 (ipykernel)",
   "language": "python",
   "name": "python3"
  },
  "language_info": {
   "codemirror_mode": {
    "name": "ipython",
    "version": 3
   },
   "file_extension": ".py",
   "mimetype": "text/x-python",
   "name": "python",
   "nbconvert_exporter": "python",
   "pygments_lexer": "ipython3",
   "version": "3.9.13"
  }
 },
 "nbformat": 4,
 "nbformat_minor": 5
}
